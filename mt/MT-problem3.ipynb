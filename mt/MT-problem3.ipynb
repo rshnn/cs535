{
 "cells": [
  {
   "cell_type": "code",
   "execution_count": 1,
   "metadata": {
    "collapsed": true
   },
   "outputs": [],
   "source": [
    "import numpy as np"
   ]
  },
  {
   "cell_type": "code",
   "execution_count": 2,
   "metadata": {},
   "outputs": [],
   "source": [
    "def nonempty_count(M):\n",
    "    count = 0\n",
    "    for i in range(M.shape[0]):\n",
    "        for j in range(M.shape[1]):\n",
    "            if M[i, j] == -1:\n",
    "                count += 1\n",
    "    return M.size - count\n",
    "\n",
    "\n",
    "def init_u_v(M, d):\n",
    "    count = 0\n",
    "    sum = 0\n",
    "    \n",
    "    for i in range(M.shape[0]):\n",
    "        for j in range(M.shape[1]):\n",
    "            \n",
    "            if not M[i, j] == -1:\n",
    "                sum += M[i,j]\n",
    "                count += 1\n",
    "         \n",
    "    avg = np.sqrt((sum / count) / d)\n",
    "\n",
    "    m, n = M.shape\n",
    "    \n",
    "    u = np.ones([m, d]) * avg\n",
    "    v = np.ones([d, n]) * avg\n",
    "    return u, v\n",
    "    "
   ]
  },
  {
   "cell_type": "code",
   "execution_count": 3,
   "metadata": {
    "collapsed": true
   },
   "outputs": [],
   "source": [
    "def RMSE(T, M):\n",
    "    \n",
    "#     T = np.dot(u, v)\n",
    "    \n",
    "    error = 0\n",
    "    for j in range(M.shape[1]):\n",
    "        \n",
    "        row_error = 0\n",
    "        for i in range(M.shape[0]):\n",
    "            if M[i][j] == -1:\n",
    "                continue\n",
    "            row_error += (M[i, j] - T[i, j])**2\n",
    "            \n",
    "        error += row_error\n",
    "        \n",
    "    return np.sqrt(error / nonempty_count(M)) "
   ]
  },
  {
   "cell_type": "code",
   "execution_count": 4,
   "metadata": {},
   "outputs": [],
   "source": [
    "def solve_U_at(r, s, u, v, M):\n",
    "    denom = 0 \n",
    "    numer = 0\n",
    "    \n",
    "    for j in range(v.shape[1]):\n",
    "        \n",
    "        if M[r, j] == -1:\n",
    "            continue\n",
    "\n",
    "        if v[s, j] != -1:\n",
    "            denom += v[s, j]**2\n",
    "    \n",
    "    \n",
    "    for j in range(v.shape[1]):\n",
    "        if M[r, j] == -1:\n",
    "            continue\n",
    "        \n",
    "        sum1 = 0\n",
    "        for k in range(u.shape[1]):\n",
    "            if k == s:\n",
    "                continue\n",
    "            sum1 += u[r, k] * v[k, j]\n",
    "    \n",
    "        numer += v[s, j] * (M[r, j] - sum1)\n",
    "        \n",
    "    \n",
    "    return numer/denom\n",
    "    \n",
    "    "
   ]
  },
  {
   "cell_type": "code",
   "execution_count": 5,
   "metadata": {
    "collapsed": true
   },
   "outputs": [],
   "source": [
    "def solve_V_at(r, s, u, v, M):\n",
    "    numer = 0\n",
    "    denom = 0\n",
    "    \n",
    "    for i in range(u.shape[0]):\n",
    "        if M[i, s] == -1:\n",
    "            continue            \n",
    "        if u[i,r] != -1:\n",
    "            denom += u[i, r]**2\n",
    "            \n",
    "    \n",
    "    for i in range(u.shape[0]):\n",
    "        if M[i, s] == -1:\n",
    "            continue            \n",
    "        \n",
    "        sum1 = 0\n",
    "        for k in range(v.shape[0]):\n",
    "            if k == r:\n",
    "                continue\n",
    "            sum1 += u[i, k] * v[k, s]\n",
    "        \n",
    "        numer += u[i, r] * (M[i, s] - sum1)\n",
    "        \n",
    "    return numer/denom\n",
    "    "
   ]
  },
  {
   "cell_type": "code",
   "execution_count": 6,
   "metadata": {},
   "outputs": [],
   "source": [
    "def solve_U(u, v, M):\n",
    "    for r in range(u.shape[0]):\n",
    "        for s in range(u.shape[1]):\n",
    "            u[r, s] = solve_U_at(r, s, u, v, M)\n",
    "            \n",
    "    return u\n",
    "\n",
    "def solve_V(u, v, M):\n",
    "    for r in range(v.shape[0]):\n",
    "        for s in range(v.shape[1]):\n",
    "            v[r, s] = solve_V_at(r, s, u, v, M)\n",
    "            \n",
    "    return v\n",
    "\n"
   ]
  },
  {
   "cell_type": "code",
   "execution_count": 32,
   "metadata": {},
   "outputs": [
    {
     "name": "stdout",
     "output_type": "stream",
     "text": [
      "1.53846153846\n",
      "1.4442750009e-16\n"
     ]
    }
   ],
   "source": [
    "M = np.array([\n",
    "    [2, 1, -1, 1, -1, 5],\n",
    "    [4, -1, 2, -1, -1, -1], \n",
    "    [3, 3, -1, 5, 1, -1], \n",
    "    [-1, -1, 5, -1, 1, 2], \n",
    "])\n",
    "\n",
    "u, v = init_u_v(M, 3)\n",
    "print(RMSE(np.dot(u, v), M))\n",
    "\n",
    "for i in range(1000):\n",
    "    u = solve_U(u, v, M)\n",
    "    v = solve_V(u, v, M)\n",
    "    \n",
    "M_hat = np.dot(u, v)\n",
    "print(RMSE(M_hat, M))"
   ]
  },
  {
   "cell_type": "code",
   "execution_count": 33,
   "metadata": {},
   "outputs": [
    {
     "name": "stdout",
     "output_type": "stream",
     "text": [
      "[[ 0.35431061  1.95145483 -0.09459433]\n",
      " [ 0.04725739  1.14036959  1.72440795]\n",
      " [ 1.36575654  0.70399184  1.19569369]\n",
      " [ 2.02043111  0.55626763  1.75488665]]\n"
     ]
    }
   ],
   "source": [
    "print(u)"
   ]
  },
  {
   "cell_type": "code",
   "execution_count": 34,
   "metadata": {},
   "outputs": [
    {
     "name": "stdout",
     "output_type": "stream",
     "text": [
      "[[ 0.23881216  0.98529201  1.61340011  2.54010604 -0.4794647   0.52538734]\n",
      " [ 1.05967228  0.3894971   0.35998014  0.11016697  0.96449231  2.45500175]\n",
      " [ 1.61231936  1.15424897  0.87754439  1.21542575  0.81612652 -0.24340428]]\n"
     ]
    }
   ],
   "source": [
    "print(v)"
   ]
  },
  {
   "cell_type": "code",
   "execution_count": 39,
   "metadata": {},
   "outputs": [
    {
     "name": "stdout",
     "output_type": "stream",
     "text": [
      "[[ 2.          1.          1.19111902  1.          1.63508281  5.        ]\n",
      " [ 4.          2.48112908  2.          2.34155968  2.48455451  2.40470948]\n",
      " [ 3.          3.          3.50620912  5.          1.          2.15481543]\n",
      " [ 3.90140264  4.23295536  5.          7.32632601  1.          2.        ]]\n"
     ]
    }
   ],
   "source": [
    "print(M_hat)"
   ]
  },
  {
   "cell_type": "code",
   "execution_count": 36,
   "metadata": {},
   "outputs": [
    {
     "name": "stdout",
     "output_type": "stream",
     "text": [
      "[[ 2  1 -1  1 -1  5]\n",
      " [ 4 -1  2 -1 -1 -1]\n",
      " [ 3  3 -1  5  1 -1]\n",
      " [-1 -1  5 -1  1  2]]\n"
     ]
    }
   ],
   "source": [
    "print(M)"
   ]
  },
  {
   "cell_type": "code",
   "execution_count": null,
   "metadata": {
    "collapsed": true
   },
   "outputs": [],
   "source": []
  },
  {
   "cell_type": "code",
   "execution_count": null,
   "metadata": {
    "collapsed": true
   },
   "outputs": [],
   "source": []
  }
 ],
 "metadata": {
  "kernelspec": {
   "display_name": "Python 3",
   "language": "python",
   "name": "python3"
  },
  "language_info": {
   "codemirror_mode": {
    "name": "ipython",
    "version": 3
   },
   "file_extension": ".py",
   "mimetype": "text/x-python",
   "name": "python",
   "nbconvert_exporter": "python",
   "pygments_lexer": "ipython3",
   "version": "3.6.2"
  }
 },
 "nbformat": 4,
 "nbformat_minor": 2
}
