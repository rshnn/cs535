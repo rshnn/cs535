{
 "cells": [
  {
   "cell_type": "code",
   "execution_count": 1,
   "metadata": {
    "collapsed": true
   },
   "outputs": [],
   "source": [
    "import math\n",
    "import numpy as np\n",
    "import matplotlib.pyplot as plt \n",
    "import seaborn as sns\n",
    "import pandas as pd\n",
    "%matplotlib inline\n",
    "plt.rcParams['figure.figsize'] = [15, 10]\n"
   ]
  },
  {
   "cell_type": "code",
   "execution_count": 2,
   "metadata": {
    "collapsed": true
   },
   "outputs": [],
   "source": [
    "stars = pd.read_csv('stars')\n",
    "circles = pd.read_csv('circles')"
   ]
  },
  {
   "cell_type": "code",
   "execution_count": 3,
   "metadata": {},
   "outputs": [
    {
     "data": {
      "image/png": "[encoded data removed]",
      "text/plain": [
       "<matplotlib.figure.Figure at 0x7fe8ccbed0f0>"
      ]
     },
     "metadata": {},
     "output_type": "display_data"
    }
   ],
   "source": [
    "plt.plot(stars.x, stars.y, '*')\n",
    "plt.plot(circles.x, circles.y, 'o')\n",
    "plt.title('Raw Data'); plt.xlabel('x'); plt.ylabel('y'); plt.legend(['stars', 'circles']);"
   ]
  },
  {
   "cell_type": "code",
   "execution_count": 4,
   "metadata": {},
   "outputs": [],
   "source": [
    "# Join the data\n",
    "\n",
    "def make_dataframe():\n",
    "    columns = \"x y label\".split()\n",
    "    stars['label'] = 1\n",
    "    circles['label'] = -1\n",
    "    data = pd.concat([stars, circles], ignore_index=True)\n",
    "    data['coef'] = np.nan\n",
    "    return data\n",
    "    \n",
    "data = make_dataframe()"
   ]
  },
  {
   "cell_type": "code",
   "execution_count": 5,
   "metadata": {
    "collapsed": true
   },
   "outputs": [],
   "source": []
  },
  {
   "cell_type": "code",
   "execution_count": null,
   "metadata": {
    "collapsed": true
   },
   "outputs": [],
   "source": []
  },
  {
   "cell_type": "code",
   "execution_count": 148,
   "metadata": {},
   "outputs": [],
   "source": [
    "def gaussian_kernel(x, z, h):\n",
    "    return math.exp((-1.0/h) * ((x[0]-z[0])**2 + (x[1]-z[1])**2))\n",
    "    \n",
    "def build_matrix_K(data, h):\n",
    "    K = np.zeros([len(data),len(data)])\n",
    "\n",
    "    for i, row in data.iterrows():\n",
    "        X = [row.x, row.y]\n",
    "        for j, z in data.iterrows():\n",
    "            Z = [z.x, z.y]\n",
    "            K[i][j] = gaussian_kernel(X, Z, h)\n",
    "    return K \n",
    "        \n",
    "    \n",
    "\n",
    "def phi_function(X, h, data, K):\n",
    "    out = 0\n",
    "    for idx, row in data.iterrows():\n",
    "        Z = [row.x, row.y]\n",
    "        out += row.coef * gaussian_kernel(X, Z, h)\n",
    "    return out\n",
    "\n",
    "\n",
    "def solve_derivative(data, lamb, K):\n",
    "    Q = np.array(data['label'])\n",
    "    I = np.identity(len(data))\n",
    "    return np.matmul(Q, np.linalg.inv(K+lamb*I))\n",
    "\n",
    "\n",
    "def solve_coefs(h, lamb, data, K):\n",
    "    A = solve_derivative(data, lamb, K)\n",
    "    data['coef'] = A\n",
    "    return data\n",
    "\n",
    "def plot_point_cloud(dimensions, lamb, h, K, filename):\n",
    "    dummy_dim = dimensions\n",
    "    dummy_x = np.linspace(-1, 1.25, dummy_dim)\n",
    "    dummy_y = np.linspace(-0.2, 1.5, dummy_dim)\n",
    "    boundary = []\n",
    "\n",
    "    df = pd.DataFrame(columns='x y phi'.split())\n",
    "    bigX = np.array([])\n",
    "    bigY = np.array([])\n",
    "\n",
    "    for i in range(dummy_dim):\n",
    "        for j in range(dummy_dim):\n",
    "            bigX = np.append(bigX, dummy_x[i])\n",
    "            bigY = np.append(bigY, dummy_y[j])\n",
    "\n",
    "    df['x'] = bigX\n",
    "    df['y'] = bigY\n",
    "    df['phi'] = np.nan\n",
    "\n",
    "    prev_phi = np.nan\n",
    "    prev_X = np.nan\n",
    "    \n",
    "    skip = False\n",
    "    for i, row in df.iterrows():\n",
    "        X = [row.x, row.y]\n",
    "        phi = phi_function(X, h, data, K)\n",
    "        df['phi'][i] = phi\n",
    "        \n",
    "        # Very ugly fix. Pls do not judge me \n",
    "        if (prev_phi < 0 and phi > 0) or (prev_phi > 0 and phi < 0):\n",
    "            if not skip: \n",
    "                boundary.append([row.x, np.mean([prev_X[1], X[1]])])\n",
    "            \n",
    "            skip = not skip\n",
    "            \n",
    "        prev_phi = phi \n",
    "        prev_X = X\n",
    "    \n",
    "        \n",
    "    circle_mask = df[df['phi'] < 0]\n",
    "    star_mask = df[df['phi'] > 0]\n",
    "\n",
    "    plt.plot(stars.x, stars.y, '*', markersize=10)\n",
    "    plt.plot(circles.x, circles.y, 'o', markersize=10)\n",
    "\n",
    "    plt.plot(star_mask.x, star_mask.y, 'ro', alpha=0.1, markersize=10)\n",
    "    plt.plot(circle_mask.x, circle_mask.y, 'go', alpha=0.1, markersize=10)\n",
    "\n",
    "    \n",
    "    boundary_x = [row[0] for row in boundary]\n",
    "    boundary_y = [row[1] for row in boundary]\n",
    "    plt.plot(boundary_x, boundary_y, 'k')\n",
    "\n",
    "    plt.title('Raw Data and Phi Function Decision Cloud, h=' + str(h)+ ', lambda=' + str(lamb)); \n",
    "    plt.xlabel('x'); plt.ylabel('y'); plt.legend(['stars', 'circles', 'stars-decision-cloud', 'circles-decision-cloud']);\n",
    "    plt.savefig(filename + '.png', bbox_inches='tight')\n",
    "        \n",
    "    return boundary    "
   ]
  },
  {
   "cell_type": "code",
   "execution_count": null,
   "metadata": {},
   "outputs": [],
   "source": []
  },
  {
   "cell_type": "code",
   "execution_count": null,
   "metadata": {
    "collapsed": true
   },
   "outputs": [],
   "source": []
  },
  {
   "cell_type": "code",
   "execution_count": null,
   "metadata": {},
   "outputs": [],
   "source": [
    "def main(h, lamb, filename):\n",
    "    data = make_dataframe()\n",
    "    K = build_matrix_K(data, h)\n",
    "    data = solve_coefs(h, lamb, data, K)\n",
    "    boundary = plot_point_cloud(100, lamb, h, K, filename)\n",
    "    \n",
    "main(h = 1, lamb = 0.1, filename='test')"
   ]
  },
  {
   "cell_type": "code",
   "execution_count": null,
   "metadata": {
    "collapsed": true
   },
   "outputs": [],
   "source": []
  },
  {
   "cell_type": "code",
   "execution_count": null,
   "metadata": {
    "collapsed": true
   },
   "outputs": [],
   "source": []
  },
  {
   "cell_type": "code",
   "execution_count": null,
   "metadata": {
    "collapsed": true
   },
   "outputs": [],
   "source": []
  },
  {
   "cell_type": "code",
   "execution_count": 147,
   "metadata": {},
   "outputs": [
    {
     "ename": "SyntaxError",
     "evalue": "invalid syntax (<ipython-input-147-259b0eefb85a>, line 1)",
     "output_type": "error",
     "traceback": [
      "\u001b[0;36m  File \u001b[0;32m\"<ipython-input-147-259b0eefb85a>\"\u001b[0;36m, line \u001b[0;32m1\u001b[0m\n\u001b[0;31m    for h in np.linspace(0)\u001b[0m\n\u001b[0m                           ^\u001b[0m\n\u001b[0;31mSyntaxError\u001b[0m\u001b[0;31m:\u001b[0m invalid syntax\n"
     ]
    }
   ],
   "source": [
    "for h in np.linspace(0)"
   ]
  },
  {
   "cell_type": "code",
   "execution_count": null,
   "metadata": {},
   "outputs": [],
   "source": []
  },
  {
   "cell_type": "code",
   "execution_count": null,
   "metadata": {},
   "outputs": [],
   "source": []
  },
  {
   "cell_type": "code",
   "execution_count": null,
   "metadata": {
    "collapsed": true
   },
   "outputs": [],
   "source": []
  }
 ],
 "metadata": {
  "kernelspec": {
   "display_name": "Python 3",
   "language": "python",
   "name": "python3"
  },
  "language_info": {
   "codemirror_mode": {
    "name": "ipython",
    "version": 3
   },
   "file_extension": ".py",
   "mimetype": "text/x-python",
   "name": "python",
   "nbconvert_exporter": "python",
   "pygments_lexer": "ipython3",
   "version": "3.6.2"
  }
 },
 "nbformat": 4,
 "nbformat_minor": 2
}
