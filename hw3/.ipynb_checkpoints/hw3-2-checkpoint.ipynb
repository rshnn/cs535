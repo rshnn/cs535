{
 "cells": [
  {
   "cell_type": "code",
   "execution_count": 1,
   "metadata": {
    "collapsed": true
   },
   "outputs": [],
   "source": [
    "import numpy as np"
   ]
  },
  {
   "cell_type": "code",
   "execution_count": 2,
   "metadata": {},
   "outputs": [],
   "source": [
    "mu = np.array([1, -1])\n",
    "Sigma = np.array([[2.1, 0], [0, 0.1]])"
   ]
  },
  {
   "cell_type": "markdown",
   "metadata": {},
   "source": [
    "# part b \n",
    "propose a method to generate realizations of X\n",
    "Generate 500 "
   ]
  },
  {
   "cell_type": "code",
   "execution_count": 4,
   "metadata": {},
   "outputs": [],
   "source": [
    "def generate_realizations(how_many):\n",
    "    points = []\n",
    "    for i in range(how_many):\n",
    "        x1 = np.random.normal(mu[0], (Sigma[0, 0])**0.5)\n",
    "        x2 = np.random.normal(mu[1], (Sigma[1, 1])**0.5)\n",
    "        X = [x1, x2]\n",
    "        points.append(np.array(X))\n",
    "    return points"
   ]
  },
  {
   "cell_type": "code",
   "execution_count": 5,
   "metadata": {},
   "outputs": [],
   "source": [
    "points = generate_realizations(500)"
   ]
  },
  {
   "cell_type": "markdown",
   "metadata": {},
   "source": [
    "# part c\n",
    "1.  Use classical method tomake this estimate\n",
    "2. Observe that the covar matrix has the special form,  use SVD to make a more powerful estimate that takes into account the extra informaton\n",
    "3. Compare the estimates for the covar matrix using the two methods.  Gen severall 500-tuples and approx the estimate error power "
   ]
  },
  {
   "cell_type": "markdown",
   "metadata": {},
   "source": [
    "###  1 Classical method"
   ]
  },
  {
   "cell_type": "code",
   "execution_count": 6,
   "metadata": {
    "collapsed": true
   },
   "outputs": [],
   "source": [
    "def estimate_mu(points):\n",
    "    \n",
    "    s1 = s2 = 0\n",
    "    N = len(points)\n",
    "    for p in points:\n",
    "        s1 += p[0]\n",
    "        s2 += p[1]\n",
    "    \n",
    "    return np.array([s1/N, s2/N])"
   ]
  },
  {
   "cell_type": "code",
   "execution_count": 7,
   "metadata": {},
   "outputs": [],
   "source": [
    "def estimate_var(points, mu):\n",
    "    x = [p[0] for p in points]\n",
    "    y = [p[1] for p in points]\n",
    "    thing = np.array([x, y])\n",
    "    return np.cov(thing)"
   ]
  },
  {
   "cell_type": "code",
   "execution_count": 8,
   "metadata": {},
   "outputs": [
    {
     "name": "stdout",
     "output_type": "stream",
     "text": [
      "[ 0.95805962 -0.99782057]\n",
      "[[  2.06848852e+00  -1.50389125e-03]\n",
      " [ -1.50389125e-03   1.00164986e-01]]\n"
     ]
    }
   ],
   "source": [
    "points = generate_realizations(5000)\n",
    "mu_hat = estimate_mu(points)\n",
    "sig_hat = estimate_var(points, mu) \n",
    "print(mu_hat) \n",
    "print(sig_hat)"
   ]
  },
  {
   "cell_type": "code",
   "execution_count": null,
   "metadata": {
    "collapsed": true
   },
   "outputs": [],
   "source": []
  },
  {
   "cell_type": "code",
   "execution_count": 9,
   "metadata": {
    "collapsed": true
   },
   "outputs": [],
   "source": [
    "def error(actual, guess):\n",
    "    return (guess[0] - actual[0])**2 + (guess[1] - actual[1])**2"
   ]
  },
  {
   "cell_type": "code",
   "execution_count": 13,
   "metadata": {},
   "outputs": [
    {
     "data": {
      "text/plain": [
       "7.9382337797974725e-08"
      ]
     },
     "execution_count": 13,
     "metadata": {},
     "output_type": "execute_result"
    }
   ],
   "source": [
    "from sklearn.decomposition import PCA \n",
    "\n",
    "iterations = 1000\n",
    "\n",
    "c_error = 0\n",
    "s_error = 0\n",
    "actual = [2.1, 0.1]\n",
    "\n",
    "for i in range(iterations):\n",
    "    # classical \n",
    "    points = generate_realizations(5000)\n",
    "    mu_hat = estimate_mu(points)\n",
    "    classical_covar = estimate_var(points, mu) \n",
    "    classical_covar = classical_covar.diagonal()\n",
    "    \n",
    "    # using svd \n",
    "    pca = PCA(n_components=2)\n",
    "    pca.fit(points)\n",
    "    svd_covar = pca.explained_variance_\n",
    "\n",
    "    c_error += error(actual, classical_covar)\n",
    "    s_error += error(actual, svd_covar)\n",
    "\n",
    "c_error / iterations - s_error / iterations "
   ]
  },
  {
   "cell_type": "code",
   "execution_count": null,
   "metadata": {
    "collapsed": true
   },
   "outputs": [],
   "source": []
  },
  {
   "cell_type": "code",
   "execution_count": null,
   "metadata": {
    "collapsed": true
   },
   "outputs": [],
   "source": []
  },
  {
   "cell_type": "code",
   "execution_count": null,
   "metadata": {
    "collapsed": true
   },
   "outputs": [],
   "source": []
  },
  {
   "cell_type": "code",
   "execution_count": null,
   "metadata": {
    "collapsed": true
   },
   "outputs": [],
   "source": []
  },
  {
   "cell_type": "code",
   "execution_count": null,
   "metadata": {
    "collapsed": true
   },
   "outputs": [],
   "source": []
  },
  {
   "cell_type": "code",
   "execution_count": null,
   "metadata": {},
   "outputs": [],
   "source": []
  },
  {
   "cell_type": "code",
   "execution_count": null,
   "metadata": {
    "collapsed": true
   },
   "outputs": [],
   "source": []
  },
  {
   "cell_type": "code",
   "execution_count": null,
   "metadata": {
    "collapsed": true
   },
   "outputs": [],
   "source": []
  },
  {
   "cell_type": "code",
   "execution_count": null,
   "metadata": {
    "collapsed": true
   },
   "outputs": [],
   "source": []
  },
  {
   "cell_type": "code",
   "execution_count": null,
   "metadata": {
    "collapsed": true
   },
   "outputs": [],
   "source": []
  },
  {
   "cell_type": "code",
   "execution_count": null,
   "metadata": {
    "collapsed": true
   },
   "outputs": [],
   "source": []
  },
  {
   "cell_type": "code",
   "execution_count": null,
   "metadata": {
    "collapsed": true
   },
   "outputs": [],
   "source": []
  },
  {
   "cell_type": "code",
   "execution_count": null,
   "metadata": {
    "collapsed": true
   },
   "outputs": [],
   "source": []
  },
  {
   "cell_type": "code",
   "execution_count": null,
   "metadata": {
    "collapsed": true
   },
   "outputs": [],
   "source": []
  }
 ],
 "metadata": {
  "kernelspec": {
   "display_name": "Python 3",
   "language": "python",
   "name": "python3"
  },
  "language_info": {
   "codemirror_mode": {
    "name": "ipython",
    "version": 3
   },
   "file_extension": ".py",
   "mimetype": "text/x-python",
   "name": "python",
   "nbconvert_exporter": "python",
   "pygments_lexer": "ipython3",
   "version": "3.6.2"
  }
 },
 "nbformat": 4,
 "nbformat_minor": 2
}
