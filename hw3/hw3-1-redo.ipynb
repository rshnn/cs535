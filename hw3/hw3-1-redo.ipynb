{
 "cells": [
  {
   "cell_type": "code",
   "execution_count": 1,
   "metadata": {
    "collapsed": true
   },
   "outputs": [],
   "source": [
    "import numpy as np\n",
    "import pandas as pd\n",
    "import seaborn as sns\n",
    "%matplotlib inline"
   ]
  },
  {
   "cell_type": "code",
   "execution_count": 2,
   "metadata": {},
   "outputs": [],
   "source": [
    "def gaussian_sample(mean, variance):\n",
    "    return np.random.normal(mean, variance**0.5)\n",
    "\n",
    "def gaussian(x, mu, var):\n",
    "    return np.exp(-1.0*(x-mu)**2/(2.0*var)) / np.sqrt(2.0*np.pi*var)\n",
    "\n",
    "class Point():\n",
    "    def __init__(self, gaussian):\n",
    "        \n",
    "        if gaussian == 0: \n",
    "            self.value = gaussian_sample(5, 1)\n",
    "        else:\n",
    "            self.value = gaussian_sample(-5, 1)\n",
    "        \n",
    "        temp = np.random.random()\n",
    "        self.p = [temp, 1-temp]\n",
    "    \n",
    "    def __str__(self): \n",
    "        out = \"Point({}, p1: {})\".format(self.value, self.p)\n",
    "        return out \n",
    "    \n",
    "    def __repr__(self):\n",
    "        out = \"Point({}, p1: {})\".format(self.value, self.p)\n",
    "        return out "
   ]
  },
  {
   "cell_type": "code",
   "execution_count": 3,
   "metadata": {},
   "outputs": [],
   "source": [
    "def generate_realizations(how_many):\n",
    "    points = []\n",
    "    half = int(how_many / 2)\n",
    "    for i in range(half):\n",
    "        points.append(Point(0))\n",
    "        \n",
    "    for i in range(half):\n",
    "        points.append(Point(1))\n",
    "        \n",
    "    return points"
   ]
  },
  {
   "cell_type": "code",
   "execution_count": 4,
   "metadata": {},
   "outputs": [],
   "source": [
    "def update_mu(points, idx):\n",
    "    numer = denom = 0\n",
    "    for point in points:\n",
    "        numer += (point.p[idx] * point.value) \n",
    "        denom += (point.p[idx])\n",
    "    return numer/denom\n",
    "\n",
    "\n",
    "def update_var(points, mu, idx):\n",
    "    numer = denom = 0\n",
    "    for point in points: \n",
    "        numer += (point.p[idx] * (point.value-mu)**2)\n",
    "        denom += (point.p[idx])\n",
    "    return numer/denom\n",
    "\n",
    "\n",
    "def update_w(points):\n",
    "    total = 0\n",
    "    for point in points:\n",
    "        total += point.p[0]\n",
    "    return total/500.0\n"
   ]
  },
  {
   "cell_type": "code",
   "execution_count": 5,
   "metadata": {},
   "outputs": [
    {
     "name": "stdout",
     "output_type": "stream",
     "text": [
      "0.127955252028 26.1553566095\n",
      "-0.173888666672 26.1588453862\n",
      "0.513720761907\n"
     ]
    }
   ],
   "source": [
    "# part B \n",
    "\n",
    "mu1 = mu2 = var2 = var2 = w = 0\n",
    "points = generate_realizations(500)\n",
    "\n",
    "for i in range(100):\n",
    "    mu1 = update_mu(points, 0)\n",
    "    mu2 = update_mu(points, 1)\n",
    "    var1 = update_var(points, mu1, 0)\n",
    "    var2 = update_var(points, mu2, 1)\n",
    "    w = update_w(points)\n",
    "        \n",
    "    for point in points: \n",
    "        p1i = w * gaussian(point.value, mu1, var1)\n",
    "        p2i = (1 - w) * gaussian(point.value, mu2, var2)\n",
    "        \n",
    "        point.p[0] = p1i / (p1i + p2i)\n",
    "        point.p[1] = p2i / (p1i + p2i)\n",
    "        \n",
    "        \n",
    "print(mu1, var1)\n",
    "print(mu2, var2)\n",
    "print(w)"
   ]
  },
  {
   "cell_type": "code",
   "execution_count": null,
   "metadata": {
    "collapsed": true
   },
   "outputs": [],
   "source": []
  },
  {
   "cell_type": "code",
   "execution_count": null,
   "metadata": {
    "collapsed": true
   },
   "outputs": [],
   "source": []
  },
  {
   "cell_type": "code",
   "execution_count": null,
   "metadata": {
    "collapsed": true
   },
   "outputs": [],
   "source": []
  },
  {
   "cell_type": "code",
   "execution_count": null,
   "metadata": {
    "collapsed": true
   },
   "outputs": [],
   "source": []
  },
  {
   "cell_type": "code",
   "execution_count": null,
   "metadata": {
    "collapsed": true
   },
   "outputs": [],
   "source": []
  }
 ],
 "metadata": {
  "kernelspec": {
   "display_name": "Python 3",
   "language": "python",
   "name": "python3"
  },
  "language_info": {
   "codemirror_mode": {
    "name": "ipython",
    "version": 3
   },
   "file_extension": ".py",
   "mimetype": "text/x-python",
   "name": "python",
   "nbconvert_exporter": "python",
   "pygments_lexer": "ipython3",
   "version": "3.6.2"
  }
 },
 "nbformat": 4,
 "nbformat_minor": 2
}
